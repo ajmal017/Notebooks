{
 "cells": [
  {
   "cell_type": "code",
   "execution_count": 61,
   "metadata": {},
   "outputs": [],
   "source": [
    "import pandas as pd\n",
    "import numpy as np\n",
    "import yfinance as yf\n",
    "from datetime import timedelta"
   ]
  },
  {
   "cell_type": "code",
   "execution_count": 62,
   "metadata": {},
   "outputs": [],
   "source": [
    "ticker_list = ['SPY', 'QQQ', 'UUP', 'EEM', 'TLT']"
   ]
  },
  {
   "cell_type": "code",
   "execution_count": 63,
   "metadata": {},
   "outputs": [],
   "source": [
    "prices = pd.DataFrame(columns=ticker_list)"
   ]
  },
  {
   "cell_type": "markdown",
   "metadata": {},
   "source": [
    "## Obtain Prices <a id='prices'>"
   ]
  },
  {
   "cell_type": "code",
   "execution_count": 90,
   "metadata": {},
   "outputs": [
    {
     "name": "stdout",
     "output_type": "stream",
     "text": [
      "[*********************100%***********************]  1 of 1 completed\n",
      "[*********************100%***********************]  1 of 1 completed\n",
      "[*********************100%***********************]  1 of 1 completed\n",
      "[*********************100%***********************]  1 of 1 completed\n",
      "[*********************100%***********************]  1 of 1 completed\n"
     ]
    },
    {
     "data": {
      "text/html": [
       "<div>\n",
       "<style scoped>\n",
       "    .dataframe tbody tr th:only-of-type {\n",
       "        vertical-align: middle;\n",
       "    }\n",
       "\n",
       "    .dataframe tbody tr th {\n",
       "        vertical-align: top;\n",
       "    }\n",
       "\n",
       "    .dataframe thead th {\n",
       "        text-align: right;\n",
       "    }\n",
       "</style>\n",
       "<table border=\"1\" class=\"dataframe\">\n",
       "  <thead>\n",
       "    <tr style=\"text-align: right;\">\n",
       "      <th></th>\n",
       "      <th>SPY</th>\n",
       "      <th>QQQ</th>\n",
       "      <th>UUP</th>\n",
       "      <th>EEM</th>\n",
       "      <th>TLT</th>\n",
       "    </tr>\n",
       "    <tr>\n",
       "      <th>Date</th>\n",
       "      <th></th>\n",
       "      <th></th>\n",
       "      <th></th>\n",
       "      <th></th>\n",
       "      <th></th>\n",
       "    </tr>\n",
       "  </thead>\n",
       "  <tbody>\n",
       "    <tr>\n",
       "      <th>2018-12-31</th>\n",
       "      <td>245.275513</td>\n",
       "      <td>152.999161</td>\n",
       "      <td>24.950497</td>\n",
       "      <td>37.953716</td>\n",
       "      <td>118.718773</td>\n",
       "    </tr>\n",
       "    <tr>\n",
       "      <th>2018-12-28</th>\n",
       "      <td>243.145813</td>\n",
       "      <td>151.719696</td>\n",
       "      <td>24.999516</td>\n",
       "      <td>38.128616</td>\n",
       "      <td>118.269348</td>\n",
       "    </tr>\n",
       "    <tr>\n",
       "      <th>2018-12-27</th>\n",
       "      <td>243.459900</td>\n",
       "      <td>151.799057</td>\n",
       "      <td>25.068142</td>\n",
       "      <td>37.769096</td>\n",
       "      <td>117.282539</td>\n",
       "    </tr>\n",
       "    <tr>\n",
       "      <th>2018-12-26</th>\n",
       "      <td>241.605011</td>\n",
       "      <td>151.213882</td>\n",
       "      <td>25.175983</td>\n",
       "      <td>37.817680</td>\n",
       "      <td>117.263016</td>\n",
       "    </tr>\n",
       "    <tr>\n",
       "      <th>2018-12-24</th>\n",
       "      <td>229.985046</td>\n",
       "      <td>142.327103</td>\n",
       "      <td>25.048532</td>\n",
       "      <td>37.079205</td>\n",
       "      <td>118.533142</td>\n",
       "    </tr>\n",
       "  </tbody>\n",
       "</table>\n",
       "</div>"
      ],
      "text/plain": [
       "                   SPY         QQQ        UUP        EEM         TLT\n",
       "Date                                                                \n",
       "2018-12-31  245.275513  152.999161  24.950497  37.953716  118.718773\n",
       "2018-12-28  243.145813  151.719696  24.999516  38.128616  118.269348\n",
       "2018-12-27  243.459900  151.799057  25.068142  37.769096  117.282539\n",
       "2018-12-26  241.605011  151.213882  25.175983  37.817680  117.263016\n",
       "2018-12-24  229.985046  142.327103  25.048532  37.079205  118.533142"
      ]
     },
     "execution_count": 90,
     "metadata": {},
     "output_type": "execute_result"
    }
   ],
   "source": [
    "for ticker in ticker_list:\n",
    "    prices[ticker] = yf.download(ticker, '2015-01-01', '2019-01-01')['Adj Close']\n",
    "\n",
    "prices.sort_values(by=['Date'], inplace=True, ascending=False)\n",
    "prices.head()"
   ]
  },
  {
   "cell_type": "markdown",
   "metadata": {},
   "source": [
    "## Create Return Arrays <a id='returns'>"
   ]
  },
  {
   "cell_type": "code",
   "execution_count": 76,
   "metadata": {},
   "outputs": [
    {
     "data": {
      "text/plain": [
       "-0.07380716429632427"
      ]
     },
     "execution_count": 76,
     "metadata": {},
     "output_type": "execute_result"
    }
   ],
   "source": [
    "# Find a return\n",
    "np.log(prices['SPY'][0]/prices['SPY'][125])"
   ]
  },
  {
   "cell_type": "code",
   "execution_count": 82,
   "metadata": {},
   "outputs": [
    {
     "data": {
      "text/plain": [
       "Date\n",
       "2018-12-31   -0.073807\n",
       "2018-12-28   -0.080392\n",
       "2018-12-27   -0.077662\n",
       "2018-12-26   -0.079609\n",
       "2018-12-24   -0.137218\n",
       "                ...   \n",
       "2015-01-08         NaN\n",
       "2015-01-07         NaN\n",
       "2015-01-06         NaN\n",
       "2015-01-05         NaN\n",
       "2015-01-02         NaN\n",
       "Name: SPY, Length: 1006, dtype: float64"
      ]
     },
     "execution_count": 82,
     "metadata": {},
     "output_type": "execute_result"
    }
   ],
   "source": [
    "# Create a return array\n",
    "price = prices['SPY']\n",
    "np.log(price / price.shift(-125))"
   ]
  },
  {
   "cell_type": "code",
   "execution_count": 86,
   "metadata": {},
   "outputs": [],
   "source": [
    "def stock_return(prices, daily_periods):\n",
    "    return np.log(prices / prices.shift(-daily_periods))"
   ]
  },
  {
   "cell_type": "code",
   "execution_count": 89,
   "metadata": {},
   "outputs": [
    {
     "data": {
      "text/html": [
       "<div>\n",
       "<style scoped>\n",
       "    .dataframe tbody tr th:only-of-type {\n",
       "        vertical-align: middle;\n",
       "    }\n",
       "\n",
       "    .dataframe tbody tr th {\n",
       "        vertical-align: top;\n",
       "    }\n",
       "\n",
       "    .dataframe thead th {\n",
       "        text-align: right;\n",
       "    }\n",
       "</style>\n",
       "<table border=\"1\" class=\"dataframe\">\n",
       "  <thead>\n",
       "    <tr style=\"text-align: right;\">\n",
       "      <th></th>\n",
       "      <th>SPY</th>\n",
       "      <th>QQQ</th>\n",
       "      <th>UUP</th>\n",
       "      <th>EEM</th>\n",
       "      <th>TLT</th>\n",
       "    </tr>\n",
       "    <tr>\n",
       "      <th>Date</th>\n",
       "      <th></th>\n",
       "      <th></th>\n",
       "      <th></th>\n",
       "      <th></th>\n",
       "      <th></th>\n",
       "    </tr>\n",
       "  </thead>\n",
       "  <tbody>\n",
       "    <tr>\n",
       "      <th>2018-12-31</th>\n",
       "      <td>-0.071671</td>\n",
       "      <td>-0.102163</td>\n",
       "      <td>0.030940</td>\n",
       "      <td>-0.088836</td>\n",
       "      <td>0.014358</td>\n",
       "    </tr>\n",
       "    <tr>\n",
       "      <th>2018-12-28</th>\n",
       "      <td>-0.078953</td>\n",
       "      <td>-0.107877</td>\n",
       "      <td>0.024915</td>\n",
       "      <td>-0.069358</td>\n",
       "      <td>0.007120</td>\n",
       "    </tr>\n",
       "    <tr>\n",
       "      <th>2018-12-27</th>\n",
       "      <td>-0.071961</td>\n",
       "      <td>-0.098789</td>\n",
       "      <td>0.027657</td>\n",
       "      <td>-0.070363</td>\n",
       "      <td>-0.001013</td>\n",
       "    </tr>\n",
       "    <tr>\n",
       "      <th>2018-12-26</th>\n",
       "      <td>-0.087928</td>\n",
       "      <td>-0.116344</td>\n",
       "      <td>0.037934</td>\n",
       "      <td>-0.088495</td>\n",
       "      <td>0.008200</td>\n",
       "    </tr>\n",
       "    <tr>\n",
       "      <th>2018-12-24</th>\n",
       "      <td>-0.135007</td>\n",
       "      <td>-0.172835</td>\n",
       "      <td>0.038074</td>\n",
       "      <td>-0.112147</td>\n",
       "      <td>0.020380</td>\n",
       "    </tr>\n",
       "  </tbody>\n",
       "</table>\n",
       "</div>"
      ],
      "text/plain": [
       "                 SPY       QQQ       UUP       EEM       TLT\n",
       "Date                                                        \n",
       "2018-12-31 -0.071671 -0.102163  0.030940 -0.088836  0.014358\n",
       "2018-12-28 -0.078953 -0.107877  0.024915 -0.069358  0.007120\n",
       "2018-12-27 -0.071961 -0.098789  0.027657 -0.070363 -0.001013\n",
       "2018-12-26 -0.087928 -0.116344  0.037934 -0.088495  0.008200\n",
       "2018-12-24 -0.135007 -0.172835  0.038074 -0.112147  0.020380"
      ]
     },
     "execution_count": 89,
     "metadata": {},
     "output_type": "execute_result"
    }
   ],
   "source": [
    "returns = pd.DataFrame(columns=ticker_list)\n",
    "\n",
    "for ticker in ticker_list:\n",
    "    returns[ticker] = stock_return(prices[ticker], 126)\n",
    "    \n",
    "returns.head()"
   ]
  },
  {
   "cell_type": "markdown",
   "metadata": {},
   "source": [
    "## Create Correlation Matrix"
   ]
  },
  {
   "cell_type": "markdown",
   "metadata": {},
   "source": [
    "## Initialize Portfolio Weights"
   ]
  },
  {
   "cell_type": "markdown",
   "metadata": {},
   "source": [
    "## Find Intra-Portfolio Correlation"
   ]
  },
  {
   "cell_type": "markdown",
   "metadata": {},
   "source": [
    "## Minimize IPC"
   ]
  },
  {
   "cell_type": "markdown",
   "metadata": {},
   "source": [
    "### References\n",
    "\n",
    "* https://medium.com/@ishan.s_54240/stock-data-and-analysis-529aa9aee60"
   ]
  }
 ],
 "metadata": {
  "kernelspec": {
   "display_name": "Python 3",
   "language": "python",
   "name": "python3"
  },
  "language_info": {
   "codemirror_mode": {
    "name": "ipython",
    "version": 3
   },
   "file_extension": ".py",
   "mimetype": "text/x-python",
   "name": "python",
   "nbconvert_exporter": "python",
   "pygments_lexer": "ipython3",
   "version": "3.6.7"
  }
 },
 "nbformat": 4,
 "nbformat_minor": 2
}
